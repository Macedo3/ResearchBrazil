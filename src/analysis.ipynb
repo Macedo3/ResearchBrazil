{
 "cells": [
  {
   "cell_type": "markdown",
   "metadata": {},
   "source": [
    "# Starting the Analysis of the Brazilian Economic Scenario"
   ]
  },
  {
   "cell_type": "markdown",
   "metadata": {},
   "source": [
    "## Import the Libs"
   ]
  },
  {
   "cell_type": "code",
   "execution_count": null,
   "metadata": {},
   "outputs": [],
   "source": [
    "import pandas as pd\n",
    "import matplotlib.pyplot as plt\n",
    "import seaborn as sns\n",
    "sns.set_theme()"
   ]
  },
  {
   "cell_type": "markdown",
   "metadata": {},
   "source": [
    "## Functions"
   ]
  },
  {
   "cell_type": "code",
   "execution_count": null,
   "metadata": {},
   "outputs": [],
   "source": [
    "def resetIndex(data):\n",
    "    data = data.reset_index()\n",
    "    data['DateTime'] = pd.to_datetime(data['DateTime'])\n",
    "    data.set_index('DateTime', inplace=True)\n",
    "    return data"
   ]
  },
  {
   "cell_type": "code",
   "execution_count": null,
   "metadata": {},
   "outputs": [],
   "source": [
    "def plotUniqueData(data_column_name, target_column_name, dataframe, line_label, line_color, plot_title, x_label, y_label, data_source):\n",
    "    \"\"\"\n",
    "    Plot a line graph using Seaborn.\n",
    "\n",
    "    Parameters:\n",
    "        data_column_name (str): Name of the column containing data for the x-axis.\n",
    "        target_column_name (str): Name of the column containing data for the y-axis.\n",
    "        dataframe (DataFrame): DataFrame containing the data.\n",
    "        line_label (str): Label for the line in the plot.\n",
    "        line_color (str): Color of the line in the plot.\n",
    "        plot_title (str): Title of the plot.\n",
    "        x_label (str): Label for the x-axis.\n",
    "        y_label (str): Label for the y-axis.\n",
    "        data_source (str): Information about the data source.\n",
    "    \"\"\"\n",
    "    plt.figure(figsize=(30, 15), facecolor='black')  \n",
    "    sns.lineplot(x=data_column_name, y=target_column_name, data=dataframe, label=line_label, color=line_color)\n",
    "    plt.xticks(rotation=45, color='white') \n",
    "    plt.yticks(color='white') \n",
    "    plt.title(plot_title, fontsize=20, color='white') \n",
    "    plt.xlabel(x_label, color='white')  \n",
    "    plt.ylabel(y_label, color='white') \n",
    "    plt.legend(fontsize='large', facecolor='black', edgecolor='white', labelcolor='white') \n",
    "    plt.figtext(0.5, 0.01, \"Source: \" + data_source, ha=\"center\", fontsize=18, color='white')  \n",
    "    plt.show()\n"
   ]
  },
  {
   "cell_type": "code",
   "execution_count": null,
   "metadata": {},
   "outputs": [],
   "source": [
    "def plotDualData(data_column_name1, target_column_name1, dataframe1, line_label1, line_color1,\n",
    "                 data_column_name2, target_column_name2, dataframe2, line_label2, line_color2,\n",
    "                 plot_title, x_label, y_label, data_source):\n",
    "    \"\"\"\n",
    "    Plot two line graphs using Seaborn.\n",
    "\n",
    "    Parameters:\n",
    "        data_column_name1 (str): Name of the column containing data for the x-axis of the first plot.\n",
    "        target_column_name1 (str): Name of the column containing data for the y-axis of the first plot.\n",
    "        dataframe1 (DataFrame): DataFrame containing the data for the first plot.\n",
    "        line_label1 (str): Label for the line in the first plot.\n",
    "        line_color1 (str): Color of the line in the first plot.\n",
    "        data_column_name2 (str): Name of the column containing data for the x-axis of the second plot.\n",
    "        target_column_name2 (str): Name of the column containing data for the y-axis of the second plot.\n",
    "        dataframe2 (DataFrame): DataFrame containing the data for the second plot.\n",
    "        line_label2 (str): Label for the line in the second plot.\n",
    "        line_color2 (str): Color of the line in the second plot.\n",
    "        plot_title (str): Title of the plots.\n",
    "        x_label (str): Label for the x-axis.\n",
    "        y_label (str): Label for the y-axis.\n",
    "        data_source (str): Information about the data source.\n",
    "    \"\"\"\n",
    "    plt.figure(figsize=(30, 15), facecolor='black')  \n",
    "\n",
    "    sns.lineplot(x=data_column_name1, y=target_column_name1, data=dataframe1, label=line_label1, color=line_color1)\n",
    "\n",
    "    sns.lineplot(x=data_column_name2, y=target_column_name2, data=dataframe2, label=line_label2, color=line_color2)\n",
    "\n",
    "    plt.xticks(rotation=45, color='white') \n",
    "    plt.yticks(color='white') \n",
    "    plt.title(plot_title, fontsize=20, color='white') \n",
    "    plt.xlabel(x_label, color='white')  \n",
    "    plt.ylabel(y_label, color='white') \n",
    "    plt.legend(fontsize='large', facecolor='black', edgecolor='white', labelcolor='white') \n",
    "    plt.figtext(0.5, 0.01, \"Source: \" + data_source, ha=\"center\", fontsize=18, color='white')  \n",
    "    plt.show()\n"
   ]
  },
  {
   "cell_type": "markdown",
   "metadata": {},
   "source": [
    "## Starting the analysis"
   ]
  },
  {
   "cell_type": "markdown",
   "metadata": {},
   "source": [
    "### Reading the Data"
   ]
  },
  {
   "cell_type": "code",
   "execution_count": null,
   "metadata": {},
   "outputs": [],
   "source": [
    "creditCost = pd.read_excel('../data/creditCost.xlsx', index_col=0, engine='openpyxl')\n",
    "creditCost = resetIndex(creditCost)"
   ]
  },
  {
   "cell_type": "code",
   "execution_count": null,
   "metadata": {},
   "outputs": [],
   "source": [
    "exchangeRate = pd.read_excel('../data/exchangeRate.xlsx', index_col=0, engine='openpyxl')\n",
    "exchangeRate = resetIndex(exchangeRate)"
   ]
  },
  {
   "cell_type": "code",
   "execution_count": null,
   "metadata": {},
   "outputs": [],
   "source": [
    "IBCBr = pd.read_excel('../data/IBC-Br.xlsx', index_col=0, engine='openpyxl')\n",
    "IBCBr = resetIndex(IBCBr)"
   ]
  },
  {
   "cell_type": "code",
   "execution_count": null,
   "metadata": {},
   "outputs": [],
   "source": [
    "IPCA = pd.read_excel('../data/IPCA.xlsx', index_col=0, engine='openpyxl')\n",
    "IPCA = resetIndex(IPCA)"
   ]
  },
  {
   "cell_type": "code",
   "execution_count": null,
   "metadata": {},
   "outputs": [],
   "source": [
    "Result_Primario_Nominal = pd.read_excel('../data/Resultados-Primario-Nominal.xlsx', index_col=0, engine='openpyxl')\n",
    "Result_Primario_Nominal = resetIndex(Result_Primario_Nominal) "
   ]
  },
  {
   "cell_type": "code",
   "execution_count": null,
   "metadata": {},
   "outputs": [],
   "source": [
    "Selic = pd.read_excel('../data/Selic.xlsx', index_col=0, engine='openpyxl')\n",
    "Selic = resetIndex(Selic)"
   ]
  },
  {
   "cell_type": "code",
   "execution_count": null,
   "metadata": {},
   "outputs": [],
   "source": [
    "unemploymentRate = pd.read_excel('../data/unemploymentRate.xlsx', index_col=0, engine='openpyxl')\n",
    "unemploymentRate = resetIndex(unemploymentRate)"
   ]
  },
  {
   "cell_type": "markdown",
   "metadata": {},
   "source": [
    "### Plot graphs"
   ]
  },
  {
   "cell_type": "markdown",
   "metadata": {},
   "source": [
    "#### Credit Cost"
   ]
  },
  {
   "cell_type": "code",
   "execution_count": null,
   "metadata": {},
   "outputs": [],
   "source": [
    "plotUniqueData('DateTime', 'Credit_Cost', creditCost, 'Credit Cost', 'blue', 'Credit Cost (%) a.a', 'Date', 'Credit Cost', 'Banco Central do Brasil')"
   ]
  },
  {
   "cell_type": "markdown",
   "metadata": {},
   "source": [
    "### Exchange Rate"
   ]
  },
  {
   "cell_type": "code",
   "execution_count": null,
   "metadata": {},
   "outputs": [],
   "source": [
    "plotUniqueData('DateTime', 'Taxa_Cambio', exchangeRate, 'Exchange Rate', 'green', 'Exchange Rate (R$)', 'Date', 'Exchange Rate', 'Banco Central do Brasil')"
   ]
  },
  {
   "cell_type": "markdown",
   "metadata": {},
   "source": [
    "### IBC-Br"
   ]
  },
  {
   "cell_type": "code",
   "execution_count": null,
   "metadata": {},
   "outputs": [],
   "source": [
    "plotUniqueData('DateTime', 'IBC-BR', IBCBr, 'IBC-Br', 'red', 'IBC-Br', 'Date', 'IBC-Br', 'Banco Central do Brasil')"
   ]
  },
  {
   "cell_type": "markdown",
   "metadata": {},
   "source": [
    "### IPCA"
   ]
  },
  {
   "cell_type": "code",
   "execution_count": null,
   "metadata": {},
   "outputs": [],
   "source": [
    "plotUniqueData('DateTime', 'IPCA ocorrido', IPCA, 'IPCA', 'purple', 'IPCA', 'Date', 'IPCA', 'Banco Central do Brasil')"
   ]
  },
  {
   "cell_type": "code",
   "execution_count": null,
   "metadata": {},
   "outputs": [],
   "source": [
    "sns.set(style=\"darkgrid\")\n",
    "plt.figure(figsize=(30, 15), facecolor='black')\n",
    "\n",
    "sns.lineplot(x='DateTime', y='IPCA ocorrido', data=IPCA, label='IPCA', color='black')\n",
    "sns.lineplot(x='DateTime', y='Focus mais recente', data=IPCA, label='Projection', color='purple', dashes=[5, 2])\n",
    "sns.lineplot(x='DateTime', y='limite máximo', data=IPCA, label='Top Limit', color='red')\n",
    "sns.lineplot(x='DateTime', y='limite mínino', data=IPCA, label='Bottom Limit', color='blue')\n",
    "\n",
    "plt.title('IPCA With Top Limit and Bottom Limit', fontsize=20, color='white')\n",
    "plt.xlabel('Date')\n",
    "plt.ylabel('IPCA (%)')\n",
    "\n",
    "plt.xticks(rotation=45, color='white') \n",
    "plt.yticks(color='white') \n",
    "plt.legend(fontsize='large', facecolor='black', edgecolor='white', labelcolor='white') \n",
    "plt.figtext(0.5, 0.01, \"Source: Banco Central do Brasil\", ha=\"center\", fontsize=18, color='white')  \n",
    "\n",
    "plt.show()"
   ]
  },
  {
   "cell_type": "markdown",
   "metadata": {},
   "source": [
    "### Debt"
   ]
  },
  {
   "cell_type": "code",
   "execution_count": null,
   "metadata": {},
   "outputs": [],
   "source": [
    "plotUniqueData('DateTime', 'Nominal', Result_Primario_Nominal, 'Nominal Result', '#003049', 'Nominal Result', 'Date', 'Nominal Result', 'Banco Central do Brasil')"
   ]
  },
  {
   "cell_type": "code",
   "execution_count": null,
   "metadata": {},
   "outputs": [],
   "source": [
    "plotUniqueData('DateTime', 'Primário', Result_Primario_Nominal, 'Primary Result', '#D62828', 'Primary Result', 'Date', 'Primary Result', 'Banco Central do Brasil')"
   ]
  },
  {
   "cell_type": "markdown",
   "metadata": {},
   "source": [
    "### Selic"
   ]
  },
  {
   "cell_type": "code",
   "execution_count": null,
   "metadata": {},
   "outputs": [],
   "source": [
    "plotUniqueData('DateTime', 'Selic', Selic, 'IPCA', 'blue', 'Selic (%)', 'DateTime', 'Selic Rate', 'Banco Central do Brasil')"
   ]
  },
  {
   "cell_type": "markdown",
   "metadata": {},
   "source": [
    "### Unemployment Rate"
   ]
  },
  {
   "cell_type": "code",
   "execution_count": null,
   "metadata": {},
   "outputs": [],
   "source": [
    "plotUniqueData('DateTime', 'Unemployment-Rate', unemploymentRate, 'Unemployment Rate', 'red', 'Unemployment Rate (%)', 'Date', 'Unemployment Rate', 'Banco Central do Brasil')"
   ]
  },
  {
   "cell_type": "markdown",
   "metadata": {},
   "source": [
    "### IPCA and Selic"
   ]
  },
  {
   "cell_type": "code",
   "execution_count": null,
   "metadata": {},
   "outputs": [],
   "source": [
    "plotDualData('DateTime', 'IPCA ocorrido', IPCA, 'IPCA', 'black', 'DateTime', 'Selic', Selic, 'Selic', 'blue', 'IPCA and Selic', 'Date', 'Rate (%)', 'Banco Central do Brasil')"
   ]
  },
  {
   "cell_type": "markdown",
   "metadata": {},
   "source": [
    "### Selic and Unemployment Rate"
   ]
  },
  {
   "cell_type": "code",
   "execution_count": null,
   "metadata": {},
   "outputs": [],
   "source": [
    "plotDualData('DateTime', 'Selic', Selic, 'Selic', 'blue', 'DateTime', 'Unemployment-Rate', unemploymentRate, 'Unemployment Rate', 'red', 'Selic and Unemployment Rate', 'Date', 'Rate (%)', 'Banco Central do Brasil')"
   ]
  },
  {
   "cell_type": "markdown",
   "metadata": {},
   "source": [
    "### Selic and IBC-Br"
   ]
  },
  {
   "cell_type": "code",
   "execution_count": null,
   "metadata": {},
   "outputs": [],
   "source": [
    "plotDualData('DateTime', 'IBC-BR', IBCBr, 'IBC-Br', 'red', 'DateTime', 'Selic', Selic, 'Selic', 'blue', 'IBC-Br and Selic', 'Date', 'Rate (%)', 'Banco Central do Brasil')"
   ]
  },
  {
   "cell_type": "markdown",
   "metadata": {},
   "source": [
    "### Unemployment Rate and Inflation"
   ]
  },
  {
   "cell_type": "code",
   "execution_count": null,
   "metadata": {},
   "outputs": [],
   "source": [
    "plotDualData('DateTime', 'Unemployment-Rate', unemploymentRate, 'Unemployment Rate', 'red', 'DateTime', 'IPCA ocorrido', IPCA, 'IPCA', 'black', 'Unemployment Rate and IPCA', 'Date', 'Rate (%)', 'Banco Central do Brasil')"
   ]
  },
  {
   "cell_type": "markdown",
   "metadata": {},
   "source": [
    "### Credit Cost and Unemployment Rate"
   ]
  },
  {
   "cell_type": "code",
   "execution_count": null,
   "metadata": {},
   "outputs": [],
   "source": [
    "plotDualData('DateTime', 'Credit_Cost', creditCost, 'Credit Cost', 'blue', 'DateTime', 'Unemployment-Rate', unemploymentRate, 'Unemployment Rate', 'red', 'Credit Cost and Unemployment Rate', 'Date', 'Rate (%)', 'Banco Central do Brasil')"
   ]
  }
 ],
 "metadata": {
  "kernelspec": {
   "display_name": "Python 3",
   "language": "python",
   "name": "python3"
  },
  "language_info": {
   "codemirror_mode": {
    "name": "ipython",
    "version": 3
   },
   "file_extension": ".py",
   "mimetype": "text/x-python",
   "name": "python",
   "nbconvert_exporter": "python",
   "pygments_lexer": "ipython3",
   "version": "3.11.1"
  }
 },
 "nbformat": 4,
 "nbformat_minor": 2
}
